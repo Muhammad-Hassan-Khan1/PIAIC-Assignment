{
 "cells": [
  {
   "cell_type": "code",
   "execution_count": 1,
   "metadata": {},
   "outputs": [
    {
     "name": "stdout",
     "output_type": "stream",
     "text": [
      "This is a guess game, enter a no, you have only 3 chances.\n",
      ": 6\n",
      ": 7\n",
      ": 3\n",
      "try again, you lose\n"
     ]
    }
   ],
   "source": [
    "print(\"This is a guess game, enter a no, you have only 3 chances.\")\n",
    "secret_no = 5\n",
    "guess = \" \"\n",
    "guess_count = 0\n",
    "guess_limit = 3\n",
    "out_of_guess = False\n",
    "while secret_no != guess and not out_of_guess:\n",
    "    if guess_count < guess_limit:\n",
    "        guess = int(input(\": \"))\n",
    "        guess_count += 1\n",
    "    else:\n",
    "        out_of_guess = True\n",
    "\n",
    "if out_of_guess:\n",
    "    print(\"try again, you lose\")\n",
    "else:\n",
    "    print(\"You Win.\")\n"
   ]
  }
 ],
 "metadata": {
  "kernelspec": {
   "display_name": "Python 3",
   "language": "python",
   "name": "python3"
  },
  "language_info": {
   "codemirror_mode": {
    "name": "ipython",
    "version": 3
   },
   "file_extension": ".py",
   "mimetype": "text/x-python",
   "name": "python",
   "nbconvert_exporter": "python",
   "pygments_lexer": "ipython3",
   "version": "3.7.3"
  }
 },
 "nbformat": 4,
 "nbformat_minor": 2
}
