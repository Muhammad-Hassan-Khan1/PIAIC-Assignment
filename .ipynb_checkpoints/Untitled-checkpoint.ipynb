{
 "cells": [
  {
   "cell_type": "code",
   "execution_count": 4,
   "metadata": {},
   "outputs": [
    {
     "name": "stdout",
     "output_type": "stream",
     "text": [
      "Enter Your Three Subjects and their Marks, I will tell you percentage and Grade\n",
      "Subject_1: a\n",
      "Marks: 78\n",
      "Subject_2: b\n",
      "Marks: 78\n",
      "Subject_3: c\n",
      "Marks: 70\n",
      "You have given following data\n",
      "a=78\n",
      "b=78\n",
      "c=70\n",
      "Calculating Percentage......\n",
      "75.33333333333333 %\n",
      "You obtained A Grade\n"
     ]
    }
   ],
   "source": [
    "print(\"Enter Your Three Subjects and their Marks, I will tell you percentage and Grade\")\n",
    "\n",
    "S_1 = input(\"Subject_1: \")\n",
    "M_1 = int(input(\"Marks: \"))\n",
    "while M_1 >= 101:\n",
    "    print(\"Your marks must be exist between 1 - 100 \")\n",
    "    M_1 = int(input(\"Enter your correct marks: \"))\n",
    "S_2 = input(\"Subject_2: \")\n",
    "M_2 = int(input(\"Marks: \"))\n",
    "while M_2 >= 101:\n",
    "    print(\"Your marks must be exist between 1 - 100 \")\n",
    "    M_2 = int(input(\"Enter your correct marks: \"))\n",
    "\n",
    "S_3 = input(\"Subject_3: \")\n",
    "M_3 = int(input(\"Marks: \"))\n",
    "while M_3 >= 101:\n",
    "    print(\"Your marks must be exist between 1 - 100 \")\n",
    "    M_3 = int(input(\"Enter your correct marks: \"))\n",
    "\n",
    "print(\"You have given following data\")\n",
    "print(S_1 + '=' + str(M_1))\n",
    "print(S_2 + '=' + str(M_2))\n",
    "print(S_3 + '=' + str(M_3))\n",
    "print('Calculating Percentage......')\n",
    "\n",
    "per = ((M_1 + M_2 + M_3)/300*100)\n",
    "print(str(per) + \" \" + \"%\")\n",
    "if per >= 80:\n",
    "    print('You obtained A+ Grade')\n",
    "elif per >= 70:\n",
    "    print('You obtained A Grade')\n",
    "elif per >= 60:\n",
    "    print('You obtained B Grade')\n",
    "elif per >= 50:\n",
    "    print('You obtained C Grade')\n",
    "elif per >= 40:\n",
    "    print('You obtained D Grade')\n",
    "else:\n",
    "    print('You Obtained F Grade')\n",
    "\n"
   ]
  },
  {
   "cell_type": "code",
   "execution_count": null,
   "metadata": {},
   "outputs": [],
   "source": []
  }
 ],
 "metadata": {
  "kernelspec": {
   "display_name": "Python 3",
   "language": "python",
   "name": "python3"
  },
  "language_info": {
   "codemirror_mode": {
    "name": "ipython",
    "version": 3
   },
   "file_extension": ".py",
   "mimetype": "text/x-python",
   "name": "python",
   "nbconvert_exporter": "python",
   "pygments_lexer": "ipython3",
   "version": "3.7.3"
  }
 },
 "nbformat": 4,
 "nbformat_minor": 2
}
